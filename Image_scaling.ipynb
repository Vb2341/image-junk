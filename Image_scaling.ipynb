{
 "metadata": {
  "name": "",
  "signature": "sha256:430a84d8a5d70f528f68b2742246961ff47cd9808ef14c7083bdafdbafa4205d"
 },
 "nbformat": 3,
 "nbformat_minor": 0,
 "worksheets": [
  {
   "cells": [
    {
     "cell_type": "code",
     "collapsed": false,
     "input": [
      "from astropy.io import fits\n",
      "import numpy as np\n",
      "import matplotlib.pyplot as plt\n",
      "import glob\n",
      "from PIL import Image\n",
      "%matplotlib inline"
     ],
     "language": "python",
     "metadata": {},
     "outputs": [],
     "prompt_number": 32
    },
    {
     "cell_type": "code",
     "collapsed": false,
     "input": [
      "drzs = sorted(glob.glob('*v2_drz.fits'))\n",
      "print drzs"
     ],
     "language": "python",
     "metadata": {},
     "outputs": [
      {
       "output_type": "stream",
       "stream": "stdout",
       "text": [
        "['F127M_v2_drz.fits', 'F139M_v2_drz.fits', 'F153M_v2_drz.fits']\n"
       ]
      }
     ],
     "prompt_number": 3
    },
    {
     "cell_type": "code",
     "collapsed": false,
     "input": [
      "rim, gim, bim = drzs[2], drzs[1], drzs[0]"
     ],
     "language": "python",
     "metadata": {},
     "outputs": [],
     "prompt_number": 5
    },
    {
     "cell_type": "code",
     "collapsed": false,
     "input": [
      "r = fits.getdata(rim)\n",
      "g = fits.getdata(gim)\n",
      "b = fits.getdata(bim)"
     ],
     "language": "python",
     "metadata": {},
     "outputs": [],
     "prompt_number": 90
    },
    {
     "cell_type": "code",
     "collapsed": false,
     "input": [
      "def scl(data,lo=None,hi=None):\n",
      "    if lo: print lo\n",
      "    else: print 'No params provided, percent scaling'"
     ],
     "language": "python",
     "metadata": {},
     "outputs": [],
     "prompt_number": 88
    },
    {
     "cell_type": "code",
     "collapsed": false,
     "input": [
      "def pctscale(data,lo=0.1,hi=99.5):\n",
      "    lv, hv = np.nanpercentile(data, [lo,hi])\n",
      "    print 'Getting nanmask'\n",
      "    nanmask = np.isnan(data)\n",
      "    print 'fraction of pixels as nan:', np.mean(nanmask.astype('float'))\n",
      "#     plt.imshow(nanmask.astype('float'))\n",
      "#     plt.show()\n",
      "    print 'Low val at {}%% level is {}'.format(lo,lv)\n",
      "    print 'High val at {}%% level is {}'.format(hi,hv)\n",
      "    data[nanmask] = lv\n",
      "    data[data<lv] = lv\n",
      "    data[data>hv] = hv\n",
      "    return data"
     ],
     "language": "python",
     "metadata": {},
     "outputs": [],
     "prompt_number": 95
    },
    {
     "cell_type": "code",
     "collapsed": false,
     "input": [
      "def bitrange(data):\n",
      "    lo = np.amin(data)\n",
      "    hi = np.amax(data)\n",
      "    data = (((data-lo)/(hi-lo))*254.999).astype('uint8')\n",
      "    return data"
     ],
     "language": "python",
     "metadata": {},
     "outputs": [],
     "prompt_number": 82
    },
    {
     "cell_type": "code",
     "collapsed": false,
     "input": [
      "def asinh(data):\n",
      "    lo = np.amin(data)\n",
      "    hi = np.amax(data)\n",
      "    data = ((data-lo)/(hi-lo))\n",
      "    data = np.arcsinh(10.0*data)/3.0\n",
      "    return data"
     ],
     "language": "python",
     "metadata": {},
     "outputs": [],
     "prompt_number": 97
    },
    {
     "cell_type": "code",
     "collapsed": false,
     "input": [
      "r = fits.getdata(rim)\n",
      "g = fits.getdata(gim)\n",
      "b = fits.getdata(bim)\n",
      "\n",
      "lo = 0.03\n",
      "hi = 98.0\n",
      "\n",
      "rscl = asinh(pctscale(r,lo,hi))\n",
      "# plt.imshow(rscl,cmap='Blues')\n",
      "# plt.show()\n",
      "r8bit = bitrange(rscl)\n",
      "# plt.imshow(r8bit, cmap='Blues')\n",
      "# plt.show()\n",
      "print 'Done'\n",
      "gscl = asinh(pctscale(g,lo,hi))\n",
      "g8bit = bitrange(gscl)\n",
      "print 'Done'\n",
      "bscl = asinh(pctscale(b,lo,hi))\n",
      "b8bit = bitrange(bscl)\n",
      "print 'Done'\n",
      "img = Image.fromarray(np.dstack((r8bit,g8bit,b8bit)))\n",
      "print 'Making image'\n",
      "img.save('final_asinh_{}_{}.jpg'.format(lo,hi))\n",
      "print 'Image made'"
     ],
     "language": "python",
     "metadata": {},
     "outputs": [
      {
       "output_type": "stream",
       "stream": "stdout",
       "text": [
        "Getting nanmask\n",
        "fraction of pixels as nan:"
       ]
      },
      {
       "output_type": "stream",
       "stream": "stdout",
       "text": [
        " 0.0848985025031\n",
        "Low val at 0.03%% level is -0.261610935673\n",
        "High val at 98.0%% level is 10.5249651146\n",
        "Done"
       ]
      },
      {
       "output_type": "stream",
       "stream": "stdout",
       "text": [
        "\n",
        "Getting nanmask"
       ]
      },
      {
       "output_type": "stream",
       "stream": "stdout",
       "text": [
        "\n",
        "fraction of pixels as nan:"
       ]
      },
      {
       "output_type": "stream",
       "stream": "stdout",
       "text": [
        " 0.166483808853\n",
        "Low val at 0.03%% level is -0.119007031083\n",
        "High val at 98.0%% level is 4.2407847023\n",
        "Done"
       ]
      },
      {
       "output_type": "stream",
       "stream": "stdout",
       "text": [
        "\n",
        "Getting nanmask"
       ]
      },
      {
       "output_type": "stream",
       "stream": "stdout",
       "text": [
        "\n",
        "fraction of pixels as nan:"
       ]
      },
      {
       "output_type": "stream",
       "stream": "stdout",
       "text": [
        " 0.148084188877\n",
        "Low val at 0.03%% level is -0.0740485523194\n",
        "High val at 98.0%% level is 2.14361681938\n",
        "Done"
       ]
      },
      {
       "output_type": "stream",
       "stream": "stdout",
       "text": [
        "\n",
        "Making image"
       ]
      },
      {
       "output_type": "stream",
       "stream": "stdout",
       "text": [
        "\n",
        "Image made"
       ]
      },
      {
       "output_type": "stream",
       "stream": "stdout",
       "text": [
        "\n"
       ]
      }
     ],
     "prompt_number": 105
    },
    {
     "cell_type": "code",
     "collapsed": false,
     "input": [],
     "language": "python",
     "metadata": {},
     "outputs": [],
     "prompt_number": 85
    },
    {
     "cell_type": "code",
     "collapsed": false,
     "input": [
      "# pctscale(g)\n",
      "print g[4685,7011]"
     ],
     "language": "python",
     "metadata": {},
     "outputs": [
      {
       "output_type": "stream",
       "stream": "stdout",
       "text": [
        "nan\n"
       ]
      }
     ],
     "prompt_number": 50
    },
    {
     "cell_type": "code",
     "collapsed": false,
     "input": [],
     "language": "python",
     "metadata": {},
     "outputs": []
    }
   ],
   "metadata": {}
  }
 ]
}